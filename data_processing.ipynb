{
 "cells": [
  {
   "cell_type": "code",
   "execution_count": 1,
   "metadata": {},
   "outputs": [
    {
     "name": "stdout",
     "output_type": "stream",
     "text": [
      "/home/unknown-user/Desktop/Projects/MajorProject\n"
     ]
    }
   ],
   "source": [
    "import os\n",
    "original = os.getcwd()\n",
    "print(original)"
   ]
  },
  {
   "cell_type": "code",
   "execution_count": 2,
   "metadata": {},
   "outputs": [
    {
     "data": {
      "text/plain": [
       "['data_processing.ipynb',\n",
       " '(BDEDS).pdf',\n",
       " 'Extraction_Based_Automatic_Text_Summariz.pdf',\n",
       " 'B11930782S319.pdf',\n",
       " '15789074.pdf',\n",
       " '1704.03242.pdf',\n",
       " 'midtermReport.odt',\n",
       " '.ipynb_checkpoints',\n",
       " 'conference-proceeding.pdf',\n",
       " 'DUC dataset',\n",
       " 'TIPSTER Dataset',\n",
       " '1704.04368.pdf',\n",
       " '1602.06023.pdf',\n",
       " 'US6289304.pdf',\n",
       " 'Resources',\n",
       " 'CNN dataset',\n",
       " 'UCI Legal Case Reports dataset',\n",
       " 'iik.pdf']"
      ]
     },
     "execution_count": 2,
     "metadata": {},
     "output_type": "execute_result"
    }
   ],
   "source": [
    "os.listdir()"
   ]
  },
  {
   "cell_type": "code",
   "execution_count": 3,
   "metadata": {},
   "outputs": [],
   "source": [
    "os.chdir(\"CNN dataset/cnn_stories_tokenized\")"
   ]
  },
  {
   "cell_type": "code",
   "execution_count": 4,
   "metadata": {},
   "outputs": [],
   "source": [
    "lst = sorted(os.listdir())\n",
    "os.chdir('/home/unknown-user/Desktop/Projects/MajorProject/CNN dataset')"
   ]
  },
  {
   "cell_type": "code",
   "execution_count": null,
   "metadata": {},
   "outputs": [],
   "source": [
    "s = set()\n",
    "print(len(lst))\n",
    "for i in lst:\n",
    "    s.add(i[:40])\n",
    "print(len(s))"
   ]
  },
  {
   "cell_type": "code",
   "execution_count": 6,
   "metadata": {},
   "outputs": [
    {
     "name": "stdout",
     "output_type": "stream",
     "text": [
      "total examples  92579\n"
     ]
    }
   ],
   "source": [
    "print(\"total examples \",len(lst))"
   ]
  },
  {
   "cell_type": "code",
   "execution_count": 7,
   "metadata": {},
   "outputs": [
    {
     "data": {
      "text/plain": [
       "'0001d1afc246a7964130f43ae940af6bc6c57f01.story'"
      ]
     },
     "execution_count": 7,
     "metadata": {},
     "output_type": "execute_result"
    }
   ],
   "source": [
    "lst[0]"
   ]
  },
  {
   "cell_type": "code",
   "execution_count": null,
   "metadata": {},
   "outputs": [],
   "source": [
    "file = open(os.getcwd() + '/training/' + lst[0])"
   ]
  },
  {
   "cell_type": "code",
   "execution_count": null,
   "metadata": {},
   "outputs": [],
   "source": [
    "data = file.read()"
   ]
  },
  {
   "cell_type": "code",
   "execution_count": null,
   "metadata": {},
   "outputs": [],
   "source": [
    "# print(data)"
   ]
  },
  {
   "cell_type": "code",
   "execution_count": null,
   "metadata": {},
   "outputs": [],
   "source": [
    "import nltk\n",
    "import re\n",
    "nltk.download('stopwords')\n",
    "nltk.download('punkt')\n",
    "from nltk.corpus import stopwords\n",
    "from nltk.tokenize import sent_tokenize,word_tokenize"
   ]
  },
  {
   "cell_type": "code",
   "execution_count": null,
   "metadata": {},
   "outputs": [],
   "source": [
    "REPLACE_BY_SPACE_RE = re.compile('[/(){}\\[\\]\\|@,;]')\n",
    "BAD_SYMBOLS_RE = re.compile('[^0-9a-z .\\'\"\\\\n]')\n",
    "STOPWORDS = set(stopwords.words('english'))\n",
    "\n",
    "def text_prepare(text):\n",
    "    \"\"\"\n",
    "        text: a string\n",
    "        \n",
    "        return: modified string\n",
    "    \"\"\"\n",
    "    text = text.lower()\n",
    "    text = re.sub(REPLACE_BY_SPACE_RE, \" \", text)\n",
    "    text = re.sub(BAD_SYMBOLS_RE, \"\", text)\n",
    "    #text = \" \".join(x for x in text.split() if x not in STOPWORDS)\n",
    "    text = word_tokenize(text)\n",
    "    text = \" \".join(text)\n",
    "    return text"
   ]
  },
  {
   "cell_type": "code",
   "execution_count": null,
   "metadata": {},
   "outputs": [],
   "source": [
    "data = text_prepare(data)\n",
    "print(text_prepare(data))"
   ]
  },
  {
   "cell_type": "code",
   "execution_count": null,
   "metadata": {},
   "outputs": [],
   "source": [
    "print(True) if '\\n' in data else False"
   ]
  },
  {
   "cell_type": "code",
   "execution_count": null,
   "metadata": {},
   "outputs": [],
   "source": [
    "sent = open('sent','a')\n",
    "summ = open('summ','a')\n",
    "# st = set()\n",
    "# for i in range(2):\n",
    "#     st.add(s.pop())\n",
    "# s = st\n",
    "c = 0\n",
    "path = os.getcwd()\n",
    "for filename in s:\n",
    "    article = path + '/training/' + filename + '.sent'\n",
    "    abstract = path + '/training/' + filename + '.summ'\n",
    "    file1 = open(article)\n",
    "    file2 = open(abstract)\n",
    "    file1 = file1.read()\n",
    "    file2 = file2.read()\n",
    "    file1 = text_prepare(file1)\n",
    "    file2 = text_prepare(file2)\n",
    "    if file1=='' or file2=='':\n",
    "        print(\"File skipped\")\n",
    "        continue\n",
    "    sent.write(file1 + '\\n')\n",
    "    summ.write(file2 + '\\n')\n",
    "    c+=1\n",
    "    if c%1000==0:\n",
    "        print(\"{} files processed\".format(c))\n",
    "sent.close()\n",
    "summ.close()"
   ]
  },
  {
   "cell_type": "code",
   "execution_count": null,
   "metadata": {},
   "outputs": [],
   "source": [
    "print(os.getcwd())\n",
    "os.chdir(\"validation\")\n",
    "print(os.getcwd())\n",
    "lst = sorted(os.listdir())\n",
    "os.chdir('/home/unknown-user/Desktop/Projects/MajorProject/CNN dataset/cnn')\n",
    "s = set()\n",
    "print(len(lst))\n",
    "for i in lst:\n",
    "    s.add(i[:40])\n",
    "print(\"total examples \",len(lst),len(s))\n",
    "sent = open('sent','a')\n",
    "summ = open('summ','a')\n",
    "# st = set()\n",
    "# for i in range(2):\n",
    "#     st.add(s.pop())\n",
    "# s = st\n",
    "c = 0\n",
    "path = os.getcwd()\n",
    "for filename in s:\n",
    "    article = path + '/validation/' + filename + '.sent'\n",
    "    abstract = path + '/validation/' + filename + '.summ'\n",
    "    file1 = open(article)\n",
    "    file2 = open(abstract)\n",
    "    file1 = file1.read()\n",
    "    file2 = file2.read()\n",
    "    file1 = text_prepare(file1)\n",
    "    file2 = text_prepare(file2)\n",
    "    if file1=='' or file2=='':\n",
    "        print(\"File skipped\")\n",
    "        continue\n",
    "    sent.write(file1 + '\\n')\n",
    "    summ.write(file2 + '\\n')\n",
    "    c+=1\n",
    "    if c%1000==0:\n",
    "        print(\"{} files processed\".format(c))\n",
    "sent.close()\n",
    "summ.close()"
   ]
  },
  {
   "cell_type": "code",
   "execution_count": null,
   "metadata": {},
   "outputs": [],
   "source": []
  }
 ],
 "metadata": {
  "kernelspec": {
   "display_name": "Python 3",
   "language": "python",
   "name": "python3"
  },
  "language_info": {
   "codemirror_mode": {
    "name": "ipython",
    "version": 3
   },
   "file_extension": ".py",
   "mimetype": "text/x-python",
   "name": "python",
   "nbconvert_exporter": "python",
   "pygments_lexer": "ipython3",
   "version": "3.8.2"
  }
 },
 "nbformat": 4,
 "nbformat_minor": 4
}
