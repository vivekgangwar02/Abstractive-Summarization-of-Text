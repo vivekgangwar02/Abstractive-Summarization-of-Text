{
  "nbformat": 4,
  "nbformat_minor": 0,
  "metadata": {
    "kernelspec": {
      "name": "python3",
      "display_name": "Python 3"
    },
    "colab": {
      "name": "model.ipynb",
      "provenance": [],
      "collapsed_sections": [],
      "machine_shape": "hm"
    }
  },
  "cells": [
    {
      "cell_type": "code",
      "metadata": {
        "id": "eAq7lq2K5Mix",
        "colab_type": "code",
        "outputId": "9777fd29-f14d-41cc-ab7c-cc6adb371093",
        "colab": {
          "base_uri": "https://localhost:8080/",
          "height": 161
        }
      },
      "source": [
        "from google.colab import drive\n",
        "drive.mount('/content/drive')\n",
        "import os\n",
        "print(os.getcwd())\n",
        "os.chdir('/content/drive/My Drive/Colab Notebooks/summarization')\n",
        "print(os.listdir())"
      ],
      "execution_count": 1,
      "outputs": [
        {
          "output_type": "stream",
          "text": [
            "Go to this URL in a browser: https://accounts.google.com/o/oauth2/auth?client_id=947318989803-6bn6qk8qdgf4n4g3pfee6491hc0brc4i.apps.googleusercontent.com&redirect_uri=urn%3aietf%3awg%3aoauth%3a2.0%3aoob&response_type=code&scope=email%20https%3a%2f%2fwww.googleapis.com%2fauth%2fdocs.test%20https%3a%2f%2fwww.googleapis.com%2fauth%2fdrive%20https%3a%2f%2fwww.googleapis.com%2fauth%2fdrive.photos.readonly%20https%3a%2f%2fwww.googleapis.com%2fauth%2fpeopleapi.readonly\n",
            "\n",
            "Enter your authorization code:\n",
            "··········\n",
            "Mounted at /content/drive\n",
            "/content\n",
            "['glove.6B.100d.txt', 'glove.6B.200d.txt', 'glove.6B.50d.txt', 'summ', 'dailymail.tgz', 'cnn.tgz', 'data_read_test.ipynb', 'PrepareInput.ipynb', 'glove.6B.300d.txt', 'sent', 'testcode.ipynb', 'summ2', 's2s.h5', 'model.ipynb']\n"
          ],
          "name": "stdout"
        }
      ]
    },
    {
      "cell_type": "code",
      "metadata": {
        "id": "fCr3zbg95H8m",
        "colab_type": "code",
        "outputId": "0f9b0520-dc03-48b4-e5f4-5d182280f47d",
        "colab": {
          "base_uri": "https://localhost:8080/",
          "height": 301
        }
      },
      "source": [
        "import os\n",
        "import numpy as np\n",
        "import pandas as pd\n",
        "import sys\n",
        "import os\n",
        "os.environ['TF_CPP_MIN_LOG_LEVEL'] = '3' \n",
        "import tensorflow as tf\n",
        "from tensorflow.python.client import device_lib \n",
        "print(device_lib.list_local_devices())\n",
        "import keras\n",
        "orig = os.getcwd()\n",
        "print(orig)"
      ],
      "execution_count": 2,
      "outputs": [
        {
          "output_type": "stream",
          "text": [
            "[name: \"/device:CPU:0\"\n",
            "device_type: \"CPU\"\n",
            "memory_limit: 268435456\n",
            "locality {\n",
            "}\n",
            "incarnation: 15377469079644100594\n",
            ", name: \"/device:XLA_CPU:0\"\n",
            "device_type: \"XLA_CPU\"\n",
            "memory_limit: 17179869184\n",
            "locality {\n",
            "}\n",
            "incarnation: 10391440037780190724\n",
            "physical_device_desc: \"device: XLA_CPU device\"\n",
            "]\n",
            "/content/drive/My Drive/Colab Notebooks/summarization\n"
          ],
          "name": "stdout"
        },
        {
          "output_type": "stream",
          "text": [
            "Using TensorFlow backend.\n"
          ],
          "name": "stderr"
        }
      ]
    },
    {
      "cell_type": "code",
      "metadata": {
        "id": "0ghS5UFC5H8s",
        "colab_type": "code",
        "colab": {}
      },
      "source": [
        "#Loading Data and Preparing vocab\n",
        "from keras.preprocessing.sequence import pad_sequences\n",
        "from keras.preprocessing.text import Tokenizer\n",
        "tokenizer = Tokenizer(num_words=sys.maxsize,filters ='', lower=False, oov_token = '<OOV>')"
      ],
      "execution_count": 0,
      "outputs": []
    },
    {
      "cell_type": "code",
      "metadata": {
        "id": "pBKL1hVu69qx",
        "colab_type": "code",
        "outputId": "203864a3-8b26-4550-f755-5de9d32cbe25",
        "colab": {
          "base_uri": "https://localhost:8080/",
          "height": 54
        }
      },
      "source": [
        "print(dir(tokenizer))"
      ],
      "execution_count": 4,
      "outputs": [
        {
          "output_type": "stream",
          "text": [
            "['__class__', '__delattr__', '__dict__', '__dir__', '__doc__', '__eq__', '__format__', '__ge__', '__getattribute__', '__gt__', '__hash__', '__init__', '__init_subclass__', '__le__', '__lt__', '__module__', '__ne__', '__new__', '__reduce__', '__reduce_ex__', '__repr__', '__setattr__', '__sizeof__', '__str__', '__subclasshook__', '__weakref__', '_keras_api_names', '_keras_api_names_v1', 'char_level', 'document_count', 'filters', 'fit_on_sequences', 'fit_on_texts', 'get_config', 'index_docs', 'index_word', 'lower', 'num_words', 'oov_token', 'sequences_to_matrix', 'sequences_to_texts', 'sequences_to_texts_generator', 'split', 'texts_to_matrix', 'texts_to_sequences', 'texts_to_sequences_generator', 'to_json', 'word_counts', 'word_docs', 'word_index']\n"
          ],
          "name": "stdout"
        }
      ]
    },
    {
      "cell_type": "code",
      "metadata": {
        "id": "gIS6-3DL5H8w",
        "colab_type": "code",
        "outputId": "73da5059-439a-48c1-bcc2-9bdc4089e6e9",
        "colab": {
          "base_uri": "https://localhost:8080/",
          "height": 34
        }
      },
      "source": [
        "#Initializing tokenizer for Vocabulary\n",
        "data1 = open('sent').readlines()\n",
        "data2 = open('summ2').readlines()\n",
        "\n",
        "tokenizer.fit_on_texts(data1)\n",
        "tokenizer.fit_on_texts(data2)\n",
        "\n",
        "print(\"No. of articles and summ\",len(data2),len(data1))\n",
        "\n",
        "dictionary = tokenizer.word_index\n",
        "word2idx = {}\n",
        "idx2word = {}\n",
        "num_encoder_tokens = len(tokenizer.word_index)+1\n",
        "num_decoder_tokens = len(tokenizer.word_index)+1\n",
        "for k, v in dictionary.items():\n",
        "    word2idx[k] = v\n",
        "    idx2word[v] = k"
      ],
      "execution_count": 35,
      "outputs": [
        {
          "output_type": "stream",
          "text": [
            "No. of articles and summ 92454 92454\n"
          ],
          "name": "stdout"
        }
      ]
    },
    {
      "cell_type": "code",
      "metadata": {
        "id": "1aAtzdlC5H86",
        "colab_type": "code",
        "colab": {}
      },
      "source": [
        "#Encoding data to integers\n",
        "sent = tokenizer.texts_to_sequences(data1)\n",
        "summ = tokenizer.texts_to_sequences(data2)"
      ],
      "execution_count": 0,
      "outputs": []
    },
    {
      "cell_type": "code",
      "metadata": {
        "id": "Uiumts1_5H8-",
        "colab_type": "code",
        "outputId": "fce14b4a-1cf0-4712-93a9-f8f401d7d9fd",
        "colab": {
          "base_uri": "https://localhost:8080/",
          "height": 70
        }
      },
      "source": [
        "#padding sequences\n",
        "#Finding the maximum sequence length\n",
        "MAX_INPUT_LENGTH = max(len(i.split()) for i in data1)\n",
        "print(MAX_INPUT_LENGTH)\n",
        "MAX_TARGET_LENGTH = max(len(j.split()) for j in data2)\n",
        "print(MAX_TARGET_LENGTH)\n",
        "padded_sent = pad_sequences(sent, maxlen = MAX_INPUT_LENGTH,padding = 'post')\n",
        "padded_summ = pad_sequences(summ, maxlen = MAX_TARGET_LENGTH,padding = 'post')\n",
        "print(padded_sent.shape,padded_summ.shape,type(padded_sent))"
      ],
      "execution_count": 7,
      "outputs": [
        {
          "output_type": "stream",
          "text": [
            "2009\n",
            "112\n",
            "(92454, 2009) (92454, 112) <class 'numpy.ndarray'>\n"
          ],
          "name": "stdout"
        }
      ]
    },
    {
      "cell_type": "code",
      "metadata": {
        "id": "fzewhB6Q5H9K",
        "colab_type": "code",
        "outputId": "69756e90-dee1-46d7-928e-221a0456e4fb",
        "colab": {
          "base_uri": "https://localhost:8080/",
          "height": 34
        }
      },
      "source": [
        "#preparing training data\n",
        "encoder_input_data = padded_sent.copy()\n",
        "decoder_input_data = padded_summ.copy()\n",
        "# print(decoder_input_data[0],decoder_input_data[1])\n",
        "decoder_target_data  = np.roll(decoder_input_data, -1, axis = -1)\n",
        "decoder_target_data[:,-1] = 0\n",
        "\n",
        "# encoder_input_data.reshape(-1,1,MAX_INPUT_LENGTH)\n",
        "# decoder_input_data = decoder_input_data.reshape(-1,1,MAX_TARGET_LENGTH)\n",
        "decoder_target_data = decoder_target_data.reshape(-1,MAX_TARGET_LENGTH,1)\n",
        "# encoder_input_data = tf.one_hot(encoder_input_data, len(tokenizer.word_index))\n",
        "# decoder_input_data = tf.one_hot(decoder_input_data, len(tokenizer.word_index))\n",
        "# decoder_target_data = tf.one_hot(decoder_target_data, len(tokenizer.word_index))\n",
        "print(encoder_input_data.shape,decoder_input_data.shape,decoder_target_data.shape)\n",
        "\n",
        "# print(decoder_input_data[0],decoder_target_data[0])"
      ],
      "execution_count": 8,
      "outputs": [
        {
          "output_type": "stream",
          "text": [
            "(92454, 2009) (92454, 112) (92454, 112, 1)\n"
          ],
          "name": "stdout"
        }
      ]
    },
    {
      "cell_type": "code",
      "metadata": {
        "id": "JQnDMH895H9O",
        "colab_type": "code",
        "colab": {}
      },
      "source": [
        "# Preparing GloVe\n",
        "EMBEDDING_DIM = 300\n",
        "embeddings_index = {}\n",
        "f = open(os.path.join('', 'glove.6B.{}d.txt'.format(EMBEDDING_DIM)))\n",
        "for line in f:\n",
        "    values = line.split()\n",
        "    word = values[0]\n",
        "    coefs = np.asarray(values[1:], dtype='float32')\n",
        "    embeddings_index[word] = coefs\n",
        "f.close()"
      ],
      "execution_count": 0,
      "outputs": []
    },
    {
      "cell_type": "code",
      "metadata": {
        "id": "ZS8ayWql5H9R",
        "colab_type": "code",
        "outputId": "ce52d181-6b1a-427b-acaf-b27c1f9d147d",
        "colab": {
          "base_uri": "https://localhost:8080/",
          "height": 34
        }
      },
      "source": [
        "\"fishtailed\" in embeddings_index"
      ],
      "execution_count": 46,
      "outputs": [
        {
          "output_type": "execute_result",
          "data": {
            "text/plain": [
              "True"
            ]
          },
          "metadata": {
            "tags": []
          },
          "execution_count": 46
        }
      ]
    },
    {
      "cell_type": "code",
      "metadata": {
        "id": "3kfd12Pw5H9X",
        "colab_type": "code",
        "outputId": "97899070-7c37-4bef-bedf-bd6e553f4d52",
        "colab": {
          "base_uri": "https://localhost:8080/",
          "height": 34
        }
      },
      "source": [
        "#Embedding matrix\n",
        "embedding_matrix = np.zeros((len(tokenizer.word_index)+1, EMBEDDING_DIM),dtype='float32')\n",
        "for word,i in tokenizer.word_index.items():\n",
        "    embedding_vector = embeddings_index.get(word)\n",
        "    if embedding_vector is not None:\n",
        "      embedding_matrix[i] = embedding_vector\n",
        "print(embedding_matrix.shape)"
      ],
      "execution_count": 11,
      "outputs": [
        {
          "output_type": "stream",
          "text": [
            "(348009, 300)\n"
          ],
          "name": "stdout"
        }
      ]
    },
    {
      "cell_type": "code",
      "metadata": {
        "id": "GTbpZWEn5H9b",
        "colab_type": "code",
        "colab": {}
      },
      "source": [
        "#Creating the Bidirectional model\n",
        "from keras.layers import Embedding\n",
        "from keras.layers import Dense, LSTM, Input, concatenate\n",
        "from keras.models import Model\n",
        "batch_size = 32\n",
        "epochs = 10\n",
        "HIDDEN_UNITS_ENC = 256\n",
        "num_samples = 10000"
      ],
      "execution_count": 0,
      "outputs": []
    },
    {
      "cell_type": "code",
      "metadata": {
        "id": "g0B2qj_z5H9e",
        "colab_type": "code",
        "colab": {}
      },
      "source": [
        "encoder_inputs = Input(shape=(MAX_INPUT_LENGTH,), name='encoder_inputs')\n",
        "embedding_layer = Embedding(num_encoder_tokens, EMBEDDING_DIM, weights=[embedding_matrix],\n",
        "                            input_length=MAX_INPUT_LENGTH, trainable=False, name='embedding_layer')\n",
        "\n",
        "encoder_rnn = LSTM(units=HIDDEN_UNITS_ENC, return_state=True, dropout=0.5, recurrent_dropout=0.5,name='encoder_lstm')\n",
        "encoder_output, state_h_f, state_c_f = encoder_rnn(embedding_layer(encoder_inputs))\n",
        "encoder_rnn2 = LSTM(units=HIDDEN_UNITS_ENC, return_state=True, dropout=0.5, recurrent_dropout=0.5,\n",
        "go_backwards=True,name='encoder_lstm_backward')\n",
        "encoder_output, state_h_b, state_c_b = encoder_rnn2(embedding_layer(encoder_inputs))\n",
        "\n",
        "state_h = concatenate([state_h_f, state_h_b])\n",
        "state_c = concatenate([state_c_f, state_c_b])\n",
        "\n",
        "encoder_states = [state_h, state_c]\n",
        "\n",
        "decoder_inputs = Input(shape=(None,), name='decoder_inputs')\n",
        "embedding_layer = Embedding(num_decoder_tokens, EMBEDDING_DIM, weights=[embedding_matrix], trainable=False, name='emb_2')\n",
        "decoder_lstm = LSTM(HIDDEN_UNITS_ENC * 2, return_sequences=True, return_state=True, dropout=0.5,\n",
        "recurrent_dropout=0.5, name='decoder_lstm')\n",
        "decoder_outputs, state_h, state_c = decoder_lstm(embedding_layer(decoder_inputs), initial_state=encoder_states)\n",
        "\n",
        "decoder_dense = Dense(num_decoder_tokens, name='decoder_dense')\n",
        "decoder_outputs = decoder_dense(decoder_outputs)\n",
        "model = Model([encoder_inputs, decoder_inputs], decoder_outputs)"
      ],
      "execution_count": 0,
      "outputs": []
    },
    {
      "cell_type": "code",
      "metadata": {
        "id": "xgkXoaBs5H9h",
        "colab_type": "code",
        "outputId": "d7366088-3a3b-4545-ee8f-8c838fb9e8ee",
        "colab": {
          "base_uri": "https://localhost:8080/",
          "height": 1000
        }
      },
      "source": [
        "print(model.summary())\n",
        "# visualize model structure\n",
        "from IPython.display import SVG\n",
        "from keras.utils.vis_utils import model_to_dot\n",
        "\n",
        "SVG(model_to_dot(model, show_shapes=True, show_layer_names=False, \n",
        "                 rankdir='TB',dpi=65).create(prog='dot', format='svg'))"
      ],
      "execution_count": 37,
      "outputs": [
        {
          "output_type": "stream",
          "text": [
            "Model: \"model_4\"\n",
            "__________________________________________________________________________________________________\n",
            "Layer (type)                    Output Shape         Param #     Connected to                     \n",
            "==================================================================================================\n",
            "encoder_inputs (InputLayer)     (None, 2009)         0                                            \n",
            "__________________________________________________________________________________________________\n",
            "embedding_layer (Embedding)     (None, 2009, 300)    104402700   encoder_inputs[0][0]             \n",
            "                                                                 encoder_inputs[0][0]             \n",
            "__________________________________________________________________________________________________\n",
            "decoder_inputs (InputLayer)     (None, None)         0                                            \n",
            "__________________________________________________________________________________________________\n",
            "encoder_lstm (LSTM)             [(None, 128), (None, 219648      embedding_layer[0][0]            \n",
            "__________________________________________________________________________________________________\n",
            "encoder_lstm_backward (LSTM)    [(None, 128), (None, 219648      embedding_layer[1][0]            \n",
            "__________________________________________________________________________________________________\n",
            "emb_2 (Embedding)               (None, None, 300)    104402700   decoder_inputs[0][0]             \n",
            "__________________________________________________________________________________________________\n",
            "concatenate_3 (Concatenate)     (None, 256)          0           encoder_lstm[0][1]               \n",
            "                                                                 encoder_lstm_backward[0][1]      \n",
            "__________________________________________________________________________________________________\n",
            "concatenate_4 (Concatenate)     (None, 256)          0           encoder_lstm[0][2]               \n",
            "                                                                 encoder_lstm_backward[0][2]      \n",
            "__________________________________________________________________________________________________\n",
            "decoder_lstm (LSTM)             [(None, None, 256),  570368      emb_2[0][0]                      \n",
            "                                                                 concatenate_3[0][0]              \n",
            "                                                                 concatenate_4[0][0]              \n",
            "__________________________________________________________________________________________________\n",
            "decoder_dense (Dense)           (None, None, 348009) 89438313    decoder_lstm[0][0]               \n",
            "==================================================================================================\n",
            "Total params: 299,253,377\n",
            "Trainable params: 90,447,977\n",
            "Non-trainable params: 208,805,400\n",
            "__________________________________________________________________________________________________\n",
            "None\n"
          ],
          "name": "stdout"
        },
        {
          "output_type": "execute_result",
          "data": {
            "text/plain": [
              "<IPython.core.display.SVG object>"
            ],
            "image/svg+xml": "<svg height=\"424pt\" viewBox=\"0.00 0.00 1024.00 470.00\" width=\"924pt\" xmlns=\"http://www.w3.org/2000/svg\" xmlns:xlink=\"http://www.w3.org/1999/xlink\">\n<g class=\"graph\" id=\"graph0\" transform=\"scale(.9028 .9028) rotate(0) translate(4 466)\">\n<title>G</title>\n<polygon fill=\"#ffffff\" points=\"-4,4 -4,-466 1020,-466 1020,4 -4,4\" stroke=\"transparent\"/>\n<!-- 140398345816720 -->\n<g class=\"node\" id=\"node1\">\n<title>140398345816720</title>\n<polygon fill=\"none\" points=\"524.5,-415.5 524.5,-461.5 757.5,-461.5 757.5,-415.5 524.5,-415.5\" stroke=\"#000000\"/>\n<text fill=\"#000000\" font-family=\"Times,serif\" font-size=\"14.00\" text-anchor=\"middle\" x=\"564.5\" y=\"-434.8\">InputLayer</text>\n<polyline fill=\"none\" points=\"604.5,-415.5 604.5,-461.5 \" stroke=\"#000000\"/>\n<text fill=\"#000000\" font-family=\"Times,serif\" font-size=\"14.00\" text-anchor=\"middle\" x=\"633.5\" y=\"-446.3\">input:</text>\n<polyline fill=\"none\" points=\"604.5,-438.5 662.5,-438.5 \" stroke=\"#000000\"/>\n<text fill=\"#000000\" font-family=\"Times,serif\" font-size=\"14.00\" text-anchor=\"middle\" x=\"633.5\" y=\"-423.3\">output:</text>\n<polyline fill=\"none\" points=\"662.5,-415.5 662.5,-461.5 \" stroke=\"#000000\"/>\n<text fill=\"#000000\" font-family=\"Times,serif\" font-size=\"14.00\" text-anchor=\"middle\" x=\"710\" y=\"-446.3\">(None, 2009)</text>\n<polyline fill=\"none\" points=\"662.5,-438.5 757.5,-438.5 \" stroke=\"#000000\"/>\n<text fill=\"#000000\" font-family=\"Times,serif\" font-size=\"14.00\" text-anchor=\"middle\" x=\"710\" y=\"-423.3\">(None, 2009)</text>\n</g>\n<!-- 140398345817056 -->\n<g class=\"node\" id=\"node2\">\n<title>140398345817056</title>\n<polygon fill=\"none\" points=\"507.5,-332.5 507.5,-378.5 774.5,-378.5 774.5,-332.5 507.5,-332.5\" stroke=\"#000000\"/>\n<text fill=\"#000000\" font-family=\"Times,serif\" font-size=\"14.00\" text-anchor=\"middle\" x=\"549.5\" y=\"-351.8\">Embedding</text>\n<polyline fill=\"none\" points=\"591.5,-332.5 591.5,-378.5 \" stroke=\"#000000\"/>\n<text fill=\"#000000\" font-family=\"Times,serif\" font-size=\"14.00\" text-anchor=\"middle\" x=\"620.5\" y=\"-363.3\">input:</text>\n<polyline fill=\"none\" points=\"591.5,-355.5 649.5,-355.5 \" stroke=\"#000000\"/>\n<text fill=\"#000000\" font-family=\"Times,serif\" font-size=\"14.00\" text-anchor=\"middle\" x=\"620.5\" y=\"-340.3\">output:</text>\n<polyline fill=\"none\" points=\"649.5,-332.5 649.5,-378.5 \" stroke=\"#000000\"/>\n<text fill=\"#000000\" font-family=\"Times,serif\" font-size=\"14.00\" text-anchor=\"middle\" x=\"712\" y=\"-363.3\">(None, 2009)</text>\n<polyline fill=\"none\" points=\"649.5,-355.5 774.5,-355.5 \" stroke=\"#000000\"/>\n<text fill=\"#000000\" font-family=\"Times,serif\" font-size=\"14.00\" text-anchor=\"middle\" x=\"712\" y=\"-340.3\">(None, 2009, 300)</text>\n</g>\n<!-- 140398345816720&#45;&gt;140398345817056 -->\n<g class=\"edge\" id=\"edge1\">\n<title>140398345816720-&gt;140398345817056</title>\n<path d=\"M641,-415.3799C641,-407.1745 641,-397.7679 641,-388.8786\" fill=\"none\" stroke=\"#000000\"/>\n<polygon fill=\"#000000\" points=\"644.5001,-388.784 641,-378.784 637.5001,-388.784 644.5001,-388.784\" stroke=\"#000000\"/>\n</g>\n<!-- 140398345817952 -->\n<g class=\"node\" id=\"node4\">\n<title>140398345817952</title>\n<polygon fill=\"none\" points=\"266,-249.5 266,-295.5 632,-295.5 632,-249.5 266,-249.5\" stroke=\"#000000\"/>\n<text fill=\"#000000\" font-family=\"Times,serif\" font-size=\"14.00\" text-anchor=\"middle\" x=\"294\" y=\"-268.8\">LSTM</text>\n<polyline fill=\"none\" points=\"322,-249.5 322,-295.5 \" stroke=\"#000000\"/>\n<text fill=\"#000000\" font-family=\"Times,serif\" font-size=\"14.00\" text-anchor=\"middle\" x=\"351\" y=\"-280.3\">input:</text>\n<polyline fill=\"none\" points=\"322,-272.5 380,-272.5 \" stroke=\"#000000\"/>\n<text fill=\"#000000\" font-family=\"Times,serif\" font-size=\"14.00\" text-anchor=\"middle\" x=\"351\" y=\"-257.3\">output:</text>\n<polyline fill=\"none\" points=\"380,-249.5 380,-295.5 \" stroke=\"#000000\"/>\n<text fill=\"#000000\" font-family=\"Times,serif\" font-size=\"14.00\" text-anchor=\"middle\" x=\"506\" y=\"-280.3\">(None, 2009, 300)</text>\n<polyline fill=\"none\" points=\"380,-272.5 632,-272.5 \" stroke=\"#000000\"/>\n<text fill=\"#000000\" font-family=\"Times,serif\" font-size=\"14.00\" text-anchor=\"middle\" x=\"506\" y=\"-257.3\">[(None, 128), (None, 128), (None, 128)]</text>\n</g>\n<!-- 140398345817056&#45;&gt;140398345817952 -->\n<g class=\"edge\" id=\"edge3\">\n<title>140398345817056-&gt;140398345817952</title>\n<path d=\"M587.7723,-332.4901C564.1545,-322.2803 536.1952,-310.1938 511.5839,-299.5545\" fill=\"none\" stroke=\"#000000\"/>\n<polygon fill=\"#000000\" points=\"512.8992,-296.3101 502.3313,-295.5547 510.1215,-302.7354 512.8992,-296.3101\" stroke=\"#000000\"/>\n</g>\n<!-- 140398355069976 -->\n<g class=\"node\" id=\"node5\">\n<title>140398355069976</title>\n<polygon fill=\"none\" points=\"650,-249.5 650,-295.5 1016,-295.5 1016,-249.5 650,-249.5\" stroke=\"#000000\"/>\n<text fill=\"#000000\" font-family=\"Times,serif\" font-size=\"14.00\" text-anchor=\"middle\" x=\"678\" y=\"-268.8\">LSTM</text>\n<polyline fill=\"none\" points=\"706,-249.5 706,-295.5 \" stroke=\"#000000\"/>\n<text fill=\"#000000\" font-family=\"Times,serif\" font-size=\"14.00\" text-anchor=\"middle\" x=\"735\" y=\"-280.3\">input:</text>\n<polyline fill=\"none\" points=\"706,-272.5 764,-272.5 \" stroke=\"#000000\"/>\n<text fill=\"#000000\" font-family=\"Times,serif\" font-size=\"14.00\" text-anchor=\"middle\" x=\"735\" y=\"-257.3\">output:</text>\n<polyline fill=\"none\" points=\"764,-249.5 764,-295.5 \" stroke=\"#000000\"/>\n<text fill=\"#000000\" font-family=\"Times,serif\" font-size=\"14.00\" text-anchor=\"middle\" x=\"890\" y=\"-280.3\">(None, 2009, 300)</text>\n<polyline fill=\"none\" points=\"764,-272.5 1016,-272.5 \" stroke=\"#000000\"/>\n<text fill=\"#000000\" font-family=\"Times,serif\" font-size=\"14.00\" text-anchor=\"middle\" x=\"890\" y=\"-257.3\">[(None, 128), (None, 128), (None, 128)]</text>\n</g>\n<!-- 140398345817056&#45;&gt;140398355069976 -->\n<g class=\"edge\" id=\"edge4\">\n<title>140398345817056-&gt;140398355069976</title>\n<path d=\"M694.2277,-332.4901C717.8455,-322.2803 745.8048,-310.1938 770.4161,-299.5545\" fill=\"none\" stroke=\"#000000\"/>\n<polygon fill=\"#000000\" points=\"771.8785,-302.7354 779.6687,-295.5547 769.1008,-296.3101 771.8785,-302.7354\" stroke=\"#000000\"/>\n</g>\n<!-- 140398345816216 -->\n<g class=\"node\" id=\"node3\">\n<title>140398345816216</title>\n<polygon fill=\"none\" points=\"14,-249.5 14,-295.5 248,-295.5 248,-249.5 14,-249.5\" stroke=\"#000000\"/>\n<text fill=\"#000000\" font-family=\"Times,serif\" font-size=\"14.00\" text-anchor=\"middle\" x=\"54\" y=\"-268.8\">InputLayer</text>\n<polyline fill=\"none\" points=\"94,-249.5 94,-295.5 \" stroke=\"#000000\"/>\n<text fill=\"#000000\" font-family=\"Times,serif\" font-size=\"14.00\" text-anchor=\"middle\" x=\"123\" y=\"-280.3\">input:</text>\n<polyline fill=\"none\" points=\"94,-272.5 152,-272.5 \" stroke=\"#000000\"/>\n<text fill=\"#000000\" font-family=\"Times,serif\" font-size=\"14.00\" text-anchor=\"middle\" x=\"123\" y=\"-257.3\">output:</text>\n<polyline fill=\"none\" points=\"152,-249.5 152,-295.5 \" stroke=\"#000000\"/>\n<text fill=\"#000000\" font-family=\"Times,serif\" font-size=\"14.00\" text-anchor=\"middle\" x=\"200\" y=\"-280.3\">(None, None)</text>\n<polyline fill=\"none\" points=\"152,-272.5 248,-272.5 \" stroke=\"#000000\"/>\n<text fill=\"#000000\" font-family=\"Times,serif\" font-size=\"14.00\" text-anchor=\"middle\" x=\"200\" y=\"-257.3\">(None, None)</text>\n</g>\n<!-- 140398330417616 -->\n<g class=\"node\" id=\"node6\">\n<title>140398330417616</title>\n<polygon fill=\"none\" points=\"0,-166.5 0,-212.5 268,-212.5 268,-166.5 0,-166.5\" stroke=\"#000000\"/>\n<text fill=\"#000000\" font-family=\"Times,serif\" font-size=\"14.00\" text-anchor=\"middle\" x=\"42\" y=\"-185.8\">Embedding</text>\n<polyline fill=\"none\" points=\"84,-166.5 84,-212.5 \" stroke=\"#000000\"/>\n<text fill=\"#000000\" font-family=\"Times,serif\" font-size=\"14.00\" text-anchor=\"middle\" x=\"113\" y=\"-197.3\">input:</text>\n<polyline fill=\"none\" points=\"84,-189.5 142,-189.5 \" stroke=\"#000000\"/>\n<text fill=\"#000000\" font-family=\"Times,serif\" font-size=\"14.00\" text-anchor=\"middle\" x=\"113\" y=\"-174.3\">output:</text>\n<polyline fill=\"none\" points=\"142,-166.5 142,-212.5 \" stroke=\"#000000\"/>\n<text fill=\"#000000\" font-family=\"Times,serif\" font-size=\"14.00\" text-anchor=\"middle\" x=\"205\" y=\"-197.3\">(None, None)</text>\n<polyline fill=\"none\" points=\"142,-189.5 268,-189.5 \" stroke=\"#000000\"/>\n<text fill=\"#000000\" font-family=\"Times,serif\" font-size=\"14.00\" text-anchor=\"middle\" x=\"205\" y=\"-174.3\">(None, None, 300)</text>\n</g>\n<!-- 140398345816216&#45;&gt;140398330417616 -->\n<g class=\"edge\" id=\"edge5\">\n<title>140398345816216-&gt;140398330417616</title>\n<path d=\"M131.8357,-249.3799C132.1322,-241.1745 132.4722,-231.7679 132.7935,-222.8786\" fill=\"none\" stroke=\"#000000\"/>\n<polygon fill=\"#000000\" points=\"136.2948,-222.9039 133.1584,-212.784 129.2994,-222.651 136.2948,-222.9039\" stroke=\"#000000\"/>\n</g>\n<!-- 140398330416992 -->\n<g class=\"node\" id=\"node7\">\n<title>140398330416992</title>\n<polygon fill=\"none\" points=\"626,-166.5 626,-212.5 944,-212.5 944,-166.5 626,-166.5\" stroke=\"#000000\"/>\n<text fill=\"#000000\" font-family=\"Times,serif\" font-size=\"14.00\" text-anchor=\"middle\" x=\"669\" y=\"-185.8\">Concatenate</text>\n<polyline fill=\"none\" points=\"712,-166.5 712,-212.5 \" stroke=\"#000000\"/>\n<text fill=\"#000000\" font-family=\"Times,serif\" font-size=\"14.00\" text-anchor=\"middle\" x=\"741\" y=\"-197.3\">input:</text>\n<polyline fill=\"none\" points=\"712,-189.5 770,-189.5 \" stroke=\"#000000\"/>\n<text fill=\"#000000\" font-family=\"Times,serif\" font-size=\"14.00\" text-anchor=\"middle\" x=\"741\" y=\"-174.3\">output:</text>\n<polyline fill=\"none\" points=\"770,-166.5 770,-212.5 \" stroke=\"#000000\"/>\n<text fill=\"#000000\" font-family=\"Times,serif\" font-size=\"14.00\" text-anchor=\"middle\" x=\"857\" y=\"-197.3\">[(None, 128), (None, 128)]</text>\n<polyline fill=\"none\" points=\"770,-189.5 944,-189.5 \" stroke=\"#000000\"/>\n<text fill=\"#000000\" font-family=\"Times,serif\" font-size=\"14.00\" text-anchor=\"middle\" x=\"857\" y=\"-174.3\">(None, 256)</text>\n</g>\n<!-- 140398345817952&#45;&gt;140398330416992 -->\n<g class=\"edge\" id=\"edge6\">\n<title>140398345817952-&gt;140398330416992</title>\n<path d=\"M542.1485,-249.4901C585.4825,-238.7856 637.1682,-226.018 681.6967,-215.0184\" fill=\"none\" stroke=\"#000000\"/>\n<polygon fill=\"#000000\" points=\"682.8015,-218.3508 691.6703,-212.5547 681.1227,-211.555 682.8015,-218.3508\" stroke=\"#000000\"/>\n</g>\n<!-- 140398641339304 -->\n<g class=\"node\" id=\"node8\">\n<title>140398641339304</title>\n<polygon fill=\"none\" points=\"290,-166.5 290,-212.5 608,-212.5 608,-166.5 290,-166.5\" stroke=\"#000000\"/>\n<text fill=\"#000000\" font-family=\"Times,serif\" font-size=\"14.00\" text-anchor=\"middle\" x=\"333\" y=\"-185.8\">Concatenate</text>\n<polyline fill=\"none\" points=\"376,-166.5 376,-212.5 \" stroke=\"#000000\"/>\n<text fill=\"#000000\" font-family=\"Times,serif\" font-size=\"14.00\" text-anchor=\"middle\" x=\"405\" y=\"-197.3\">input:</text>\n<polyline fill=\"none\" points=\"376,-189.5 434,-189.5 \" stroke=\"#000000\"/>\n<text fill=\"#000000\" font-family=\"Times,serif\" font-size=\"14.00\" text-anchor=\"middle\" x=\"405\" y=\"-174.3\">output:</text>\n<polyline fill=\"none\" points=\"434,-166.5 434,-212.5 \" stroke=\"#000000\"/>\n<text fill=\"#000000\" font-family=\"Times,serif\" font-size=\"14.00\" text-anchor=\"middle\" x=\"521\" y=\"-197.3\">[(None, 128), (None, 128)]</text>\n<polyline fill=\"none\" points=\"434,-189.5 608,-189.5 \" stroke=\"#000000\"/>\n<text fill=\"#000000\" font-family=\"Times,serif\" font-size=\"14.00\" text-anchor=\"middle\" x=\"521\" y=\"-174.3\">(None, 256)</text>\n</g>\n<!-- 140398345817952&#45;&gt;140398641339304 -->\n<g class=\"edge\" id=\"edge8\">\n<title>140398345817952-&gt;140398641339304</title>\n<path d=\"M449,-249.3799C449,-241.1745 449,-231.7679 449,-222.8786\" fill=\"none\" stroke=\"#000000\"/>\n<polygon fill=\"#000000\" points=\"452.5001,-222.784 449,-212.784 445.5001,-222.784 452.5001,-222.784\" stroke=\"#000000\"/>\n</g>\n<!-- 140398355069976&#45;&gt;140398330416992 -->\n<g class=\"edge\" id=\"edge7\">\n<title>140398355069976-&gt;140398330416992</title>\n<path d=\"M819.6293,-249.3799C814.6778,-240.8178 808.9697,-230.9477 803.6345,-221.7222\" fill=\"none\" stroke=\"#000000\"/>\n<polygon fill=\"#000000\" points=\"806.5016,-219.6885 798.4654,-212.784 800.4419,-223.1929 806.5016,-219.6885\" stroke=\"#000000\"/>\n</g>\n<!-- 140398355069976&#45;&gt;140398641339304 -->\n<g class=\"edge\" id=\"edge9\">\n<title>140398355069976-&gt;140398641339304</title>\n<path d=\"M726.5445,-249.4901C676.4998,-238.6731 616.7086,-225.7495 565.46,-214.6723\" fill=\"none\" stroke=\"#000000\"/>\n<polygon fill=\"#000000\" points=\"566.1763,-211.2464 555.6625,-212.5547 564.6974,-218.0884 566.1763,-211.2464\" stroke=\"#000000\"/>\n</g>\n<!-- 140398343732304 -->\n<g class=\"node\" id=\"node9\">\n<title>140398343732304</title>\n<polygon fill=\"none\" points=\"246.5,-83.5 246.5,-129.5 651.5,-129.5 651.5,-83.5 246.5,-83.5\" stroke=\"#000000\"/>\n<text fill=\"#000000\" font-family=\"Times,serif\" font-size=\"14.00\" text-anchor=\"middle\" x=\"274.5\" y=\"-102.8\">LSTM</text>\n<polyline fill=\"none\" points=\"302.5,-83.5 302.5,-129.5 \" stroke=\"#000000\"/>\n<text fill=\"#000000\" font-family=\"Times,serif\" font-size=\"14.00\" text-anchor=\"middle\" x=\"331.5\" y=\"-114.3\">input:</text>\n<polyline fill=\"none\" points=\"302.5,-106.5 360.5,-106.5 \" stroke=\"#000000\"/>\n<text fill=\"#000000\" font-family=\"Times,serif\" font-size=\"14.00\" text-anchor=\"middle\" x=\"331.5\" y=\"-91.3\">output:</text>\n<polyline fill=\"none\" points=\"360.5,-83.5 360.5,-129.5 \" stroke=\"#000000\"/>\n<text fill=\"#000000\" font-family=\"Times,serif\" font-size=\"14.00\" text-anchor=\"middle\" x=\"506\" y=\"-114.3\">[(None, None, 300), (None, 256), (None, 256)]</text>\n<polyline fill=\"none\" points=\"360.5,-106.5 651.5,-106.5 \" stroke=\"#000000\"/>\n<text fill=\"#000000\" font-family=\"Times,serif\" font-size=\"14.00\" text-anchor=\"middle\" x=\"506\" y=\"-91.3\">[(None, None, 256), (None, 256), (None, 256)]</text>\n</g>\n<!-- 140398330417616&#45;&gt;140398343732304 -->\n<g class=\"edge\" id=\"edge10\">\n<title>140398330417616-&gt;140398343732304</title>\n<path d=\"M221.3267,-166.4901C261.7816,-155.8306 310.0006,-143.1252 351.6266,-132.1571\" fill=\"none\" stroke=\"#000000\"/>\n<polygon fill=\"#000000\" points=\"352.7252,-135.4872 361.5034,-129.5547 350.9416,-128.7182 352.7252,-135.4872\" stroke=\"#000000\"/>\n</g>\n<!-- 140398330416992&#45;&gt;140398343732304 -->\n<g class=\"edge\" id=\"edge11\">\n<title>140398330416992-&gt;140398343732304</title>\n<path d=\"M691.8515,-166.4901C648.5175,-155.7856 596.8318,-143.018 552.3033,-132.0184\" fill=\"none\" stroke=\"#000000\"/>\n<polygon fill=\"#000000\" points=\"552.8773,-128.555 542.3297,-129.5547 551.1985,-135.3508 552.8773,-128.555\" stroke=\"#000000\"/>\n</g>\n<!-- 140398641339304&#45;&gt;140398343732304 -->\n<g class=\"edge\" id=\"edge12\">\n<title>140398641339304-&gt;140398343732304</title>\n<path d=\"M449,-166.3799C449,-158.1745 449,-148.7679 449,-139.8786\" fill=\"none\" stroke=\"#000000\"/>\n<polygon fill=\"#000000\" points=\"452.5001,-139.784 449,-129.784 445.5001,-139.784 452.5001,-139.784\" stroke=\"#000000\"/>\n</g>\n<!-- 140398330701136 -->\n<g class=\"node\" id=\"node10\">\n<title>140398330701136</title>\n<polygon fill=\"none\" points=\"319.5,-.5 319.5,-46.5 578.5,-46.5 578.5,-.5 319.5,-.5\" stroke=\"#000000\"/>\n<text fill=\"#000000\" font-family=\"Times,serif\" font-size=\"14.00\" text-anchor=\"middle\" x=\"345.5\" y=\"-19.8\">Dense</text>\n<polyline fill=\"none\" points=\"371.5,-.5 371.5,-46.5 \" stroke=\"#000000\"/>\n<text fill=\"#000000\" font-family=\"Times,serif\" font-size=\"14.00\" text-anchor=\"middle\" x=\"400.5\" y=\"-31.3\">input:</text>\n<polyline fill=\"none\" points=\"371.5,-23.5 429.5,-23.5 \" stroke=\"#000000\"/>\n<text fill=\"#000000\" font-family=\"Times,serif\" font-size=\"14.00\" text-anchor=\"middle\" x=\"400.5\" y=\"-8.3\">output:</text>\n<polyline fill=\"none\" points=\"429.5,-.5 429.5,-46.5 \" stroke=\"#000000\"/>\n<text fill=\"#000000\" font-family=\"Times,serif\" font-size=\"14.00\" text-anchor=\"middle\" x=\"504\" y=\"-31.3\">(None, None, 256)</text>\n<polyline fill=\"none\" points=\"429.5,-23.5 578.5,-23.5 \" stroke=\"#000000\"/>\n<text fill=\"#000000\" font-family=\"Times,serif\" font-size=\"14.00\" text-anchor=\"middle\" x=\"504\" y=\"-8.3\">(None, None, 348009)</text>\n</g>\n<!-- 140398343732304&#45;&gt;140398330701136 -->\n<g class=\"edge\" id=\"edge13\">\n<title>140398343732304-&gt;140398330701136</title>\n<path d=\"M449,-83.3799C449,-75.1745 449,-65.7679 449,-56.8786\" fill=\"none\" stroke=\"#000000\"/>\n<polygon fill=\"#000000\" points=\"452.5001,-56.784 449,-46.784 445.5001,-56.784 452.5001,-56.784\" stroke=\"#000000\"/>\n</g>\n</g>\n</svg>"
          },
          "metadata": {
            "tags": []
          },
          "execution_count": 37
        }
      ]
    },
    {
      "cell_type": "code",
      "metadata": {
        "id": "XiNKWXkJ5H9k",
        "colab_type": "code",
        "colab": {
          "base_uri": "https://localhost:8080/",
          "height": 54
        },
        "outputId": "070db0bf-67df-442b-dd44-f50a0ef6db6a"
      },
      "source": [
        "model.compile(optimizer='rmsprop', loss='sparse_categorical_crossentropy', metrics=['acc'])\n",
        "model.fit([encoder_input_data,decoder_input_data],decoder_target_data,batch_size = batch_size, epochs = epochs,validation_split=0.9)\n",
        "model.save('s2s.h5')"
      ],
      "execution_count": 16,
      "outputs": [
        {
          "output_type": "execute_result",
          "data": {
            "text/plain": [
              "\"model.compile(optimizer='rmsprop', loss='sparse_categorical_crossentropy', metrics=['acc'])\\nmodel.fit([encoder_input_data,decoder_input_data],decoder_target_data,batch_size = batch_size, epochs = epochs,validation_split=0.9)\\nmodel.save('s2s.h5')\""
            ]
          },
          "metadata": {
            "tags": []
          },
          "execution_count": 16
        }
      ]
    },
    {
      "cell_type": "code",
      "metadata": {
        "id": "tDRLDNqbiTp-",
        "colab_type": "code",
        "colab": {}
      },
      "source": [
        "from keras.models import load_model\n",
        "model = load_model('s2s.h5')"
      ],
      "execution_count": 0,
      "outputs": []
    },
    {
      "cell_type": "code",
      "metadata": {
        "id": "NX-0WwQ3-KSq",
        "colab_type": "code",
        "colab": {}
      },
      "source": [
        "#inference step\n",
        "encoder_model = Model(encoder_inputs, encoder_states)\n",
        "# encoder_model.summary()\n",
        "\n",
        "decoder_state_input_h = Input(shape = (HIDDEN_UNITS_ENC*2,))\n",
        "decoder_state_input_c = Input(shape = (HIDDEN_UNITS_ENC*2,))\n",
        "decoder_states_inputs = [decoder_state_input_h,decoder_state_input_c]\n",
        "decoder_output, state_h, state_c = decoder_lstm(embedding_layer(decoder_inputs), initial_state = decoder_states_inputs)\n",
        "decoder_states = [state_h,state_c]\n",
        "decoder_outputs = decoder_dense(decoder_output)\n",
        "decoder_model = Model([decoder_inputs] + decoder_states_inputs, [decoder_outputs] + decoder_states)\n"
      ],
      "execution_count": 0,
      "outputs": []
    },
    {
      "cell_type": "code",
      "metadata": {
        "colab_type": "code",
        "id": "EwYHmRHps_1W",
        "outputId": "25f4a9cb-23f6-4a60-ff2d-96002f09df65",
        "colab": {
          "base_uri": "https://localhost:8080/",
          "height": 806
        }
      },
      "source": [
        "decoder_model.summary()\n",
        "# visualize model structure\n",
        "from IPython.display import SVG\n",
        "from keras.utils.vis_utils import model_to_dot\n",
        "\n",
        "SVG(model_to_dot(decoder_model, show_shapes=True, show_layer_names=False, \n",
        "                 rankdir='TB',dpi = 70).create(prog='dot', format='svg'))"
      ],
      "execution_count": 40,
      "outputs": [
        {
          "output_type": "stream",
          "text": [
            "Model: \"model_6\"\n",
            "__________________________________________________________________________________________________\n",
            "Layer (type)                    Output Shape         Param #     Connected to                     \n",
            "==================================================================================================\n",
            "decoder_inputs (InputLayer)     (None, None)         0                                            \n",
            "__________________________________________________________________________________________________\n",
            "emb_2 (Embedding)               (None, None, 300)    104402700   decoder_inputs[0][0]             \n",
            "__________________________________________________________________________________________________\n",
            "input_3 (InputLayer)            (None, 256)          0                                            \n",
            "__________________________________________________________________________________________________\n",
            "input_4 (InputLayer)            (None, 256)          0                                            \n",
            "__________________________________________________________________________________________________\n",
            "decoder_lstm (LSTM)             [(None, None, 256),  570368      emb_2[1][0]                      \n",
            "                                                                 input_3[0][0]                    \n",
            "                                                                 input_4[0][0]                    \n",
            "__________________________________________________________________________________________________\n",
            "decoder_dense (Dense)           (None, None, 348009) 89438313    decoder_lstm[1][0]               \n",
            "==================================================================================================\n",
            "Total params: 194,411,381\n",
            "Trainable params: 90,008,681\n",
            "Non-trainable params: 104,402,700\n",
            "__________________________________________________________________________________________________\n"
          ],
          "name": "stdout"
        },
        {
          "output_type": "execute_result",
          "data": {
            "text/plain": [
              "<IPython.core.display.SVG object>"
            ],
            "image/svg+xml": "<svg height=\"296pt\" viewBox=\"0.00 0.00 762.50 304.00\" width=\"741pt\" xmlns=\"http://www.w3.org/2000/svg\" xmlns:xlink=\"http://www.w3.org/1999/xlink\">\n<g class=\"graph\" id=\"graph0\" transform=\"scale(.9722 .9722) rotate(0) translate(4 300)\">\n<title>G</title>\n<polygon fill=\"#ffffff\" points=\"-4,4 -4,-300 758.5,-300 758.5,4 -4,4\" stroke=\"transparent\"/>\n<!-- 140398345816216 -->\n<g class=\"node\" id=\"node1\">\n<title>140398345816216</title>\n<polygon fill=\"none\" points=\"17,-249.5 17,-295.5 251,-295.5 251,-249.5 17,-249.5\" stroke=\"#000000\"/>\n<text fill=\"#000000\" font-family=\"Times,serif\" font-size=\"14.00\" text-anchor=\"middle\" x=\"57\" y=\"-268.8\">InputLayer</text>\n<polyline fill=\"none\" points=\"97,-249.5 97,-295.5 \" stroke=\"#000000\"/>\n<text fill=\"#000000\" font-family=\"Times,serif\" font-size=\"14.00\" text-anchor=\"middle\" x=\"126\" y=\"-280.3\">input:</text>\n<polyline fill=\"none\" points=\"97,-272.5 155,-272.5 \" stroke=\"#000000\"/>\n<text fill=\"#000000\" font-family=\"Times,serif\" font-size=\"14.00\" text-anchor=\"middle\" x=\"126\" y=\"-257.3\">output:</text>\n<polyline fill=\"none\" points=\"155,-249.5 155,-295.5 \" stroke=\"#000000\"/>\n<text fill=\"#000000\" font-family=\"Times,serif\" font-size=\"14.00\" text-anchor=\"middle\" x=\"203\" y=\"-280.3\">(None, None)</text>\n<polyline fill=\"none\" points=\"155,-272.5 251,-272.5 \" stroke=\"#000000\"/>\n<text fill=\"#000000\" font-family=\"Times,serif\" font-size=\"14.00\" text-anchor=\"middle\" x=\"203\" y=\"-257.3\">(None, None)</text>\n</g>\n<!-- 140398330417616 -->\n<g class=\"node\" id=\"node2\">\n<title>140398330417616</title>\n<polygon fill=\"none\" points=\"0,-166.5 0,-212.5 268,-212.5 268,-166.5 0,-166.5\" stroke=\"#000000\"/>\n<text fill=\"#000000\" font-family=\"Times,serif\" font-size=\"14.00\" text-anchor=\"middle\" x=\"42\" y=\"-185.8\">Embedding</text>\n<polyline fill=\"none\" points=\"84,-166.5 84,-212.5 \" stroke=\"#000000\"/>\n<text fill=\"#000000\" font-family=\"Times,serif\" font-size=\"14.00\" text-anchor=\"middle\" x=\"113\" y=\"-197.3\">input:</text>\n<polyline fill=\"none\" points=\"84,-189.5 142,-189.5 \" stroke=\"#000000\"/>\n<text fill=\"#000000\" font-family=\"Times,serif\" font-size=\"14.00\" text-anchor=\"middle\" x=\"113\" y=\"-174.3\">output:</text>\n<polyline fill=\"none\" points=\"142,-166.5 142,-212.5 \" stroke=\"#000000\"/>\n<text fill=\"#000000\" font-family=\"Times,serif\" font-size=\"14.00\" text-anchor=\"middle\" x=\"205\" y=\"-197.3\">(None, None)</text>\n<polyline fill=\"none\" points=\"142,-189.5 268,-189.5 \" stroke=\"#000000\"/>\n<text fill=\"#000000\" font-family=\"Times,serif\" font-size=\"14.00\" text-anchor=\"middle\" x=\"205\" y=\"-174.3\">(None, None, 300)</text>\n</g>\n<!-- 140398345816216&#45;&gt;140398330417616 -->\n<g class=\"edge\" id=\"edge1\">\n<title>140398345816216-&gt;140398330417616</title>\n<path d=\"M134,-249.3799C134,-241.1745 134,-231.7679 134,-222.8786\" fill=\"none\" stroke=\"#000000\"/>\n<polygon fill=\"#000000\" points=\"137.5001,-222.784 134,-212.784 130.5001,-222.784 137.5001,-222.784\" stroke=\"#000000\"/>\n</g>\n<!-- 140398343732304 -->\n<g class=\"node\" id=\"node5\">\n<title>140398343732304</title>\n<polygon fill=\"none\" points=\"196.5,-83.5 196.5,-129.5 601.5,-129.5 601.5,-83.5 196.5,-83.5\" stroke=\"#000000\"/>\n<text fill=\"#000000\" font-family=\"Times,serif\" font-size=\"14.00\" text-anchor=\"middle\" x=\"224.5\" y=\"-102.8\">LSTM</text>\n<polyline fill=\"none\" points=\"252.5,-83.5 252.5,-129.5 \" stroke=\"#000000\"/>\n<text fill=\"#000000\" font-family=\"Times,serif\" font-size=\"14.00\" text-anchor=\"middle\" x=\"281.5\" y=\"-114.3\">input:</text>\n<polyline fill=\"none\" points=\"252.5,-106.5 310.5,-106.5 \" stroke=\"#000000\"/>\n<text fill=\"#000000\" font-family=\"Times,serif\" font-size=\"14.00\" text-anchor=\"middle\" x=\"281.5\" y=\"-91.3\">output:</text>\n<polyline fill=\"none\" points=\"310.5,-83.5 310.5,-129.5 \" stroke=\"#000000\"/>\n<text fill=\"#000000\" font-family=\"Times,serif\" font-size=\"14.00\" text-anchor=\"middle\" x=\"456\" y=\"-114.3\">[(None, None, 300), (None, 256), (None, 256)]</text>\n<polyline fill=\"none\" points=\"310.5,-106.5 601.5,-106.5 \" stroke=\"#000000\"/>\n<text fill=\"#000000\" font-family=\"Times,serif\" font-size=\"14.00\" text-anchor=\"middle\" x=\"456\" y=\"-91.3\">[(None, None, 256), (None, 256), (None, 256)]</text>\n</g>\n<!-- 140398330417616&#45;&gt;140398343732304 -->\n<g class=\"edge\" id=\"edge2\">\n<title>140398330417616-&gt;140398343732304</title>\n<path d=\"M207.4654,-166.4901C241.068,-155.9655 281.0381,-143.4466 315.7502,-132.5745\" fill=\"none\" stroke=\"#000000\"/>\n<polygon fill=\"#000000\" points=\"316.895,-135.8836 325.3917,-129.5547 314.8027,-129.2036 316.895,-135.8836\" stroke=\"#000000\"/>\n</g>\n<!-- 140398345591720 -->\n<g class=\"node\" id=\"node3\">\n<title>140398345591720</title>\n<polygon fill=\"none\" points=\"286.5,-166.5 286.5,-212.5 511.5,-212.5 511.5,-166.5 286.5,-166.5\" stroke=\"#000000\"/>\n<text fill=\"#000000\" font-family=\"Times,serif\" font-size=\"14.00\" text-anchor=\"middle\" x=\"326.5\" y=\"-185.8\">InputLayer</text>\n<polyline fill=\"none\" points=\"366.5,-166.5 366.5,-212.5 \" stroke=\"#000000\"/>\n<text fill=\"#000000\" font-family=\"Times,serif\" font-size=\"14.00\" text-anchor=\"middle\" x=\"395.5\" y=\"-197.3\">input:</text>\n<polyline fill=\"none\" points=\"366.5,-189.5 424.5,-189.5 \" stroke=\"#000000\"/>\n<text fill=\"#000000\" font-family=\"Times,serif\" font-size=\"14.00\" text-anchor=\"middle\" x=\"395.5\" y=\"-174.3\">output:</text>\n<polyline fill=\"none\" points=\"424.5,-166.5 424.5,-212.5 \" stroke=\"#000000\"/>\n<text fill=\"#000000\" font-family=\"Times,serif\" font-size=\"14.00\" text-anchor=\"middle\" x=\"468\" y=\"-197.3\">(None, 256)</text>\n<polyline fill=\"none\" points=\"424.5,-189.5 511.5,-189.5 \" stroke=\"#000000\"/>\n<text fill=\"#000000\" font-family=\"Times,serif\" font-size=\"14.00\" text-anchor=\"middle\" x=\"468\" y=\"-174.3\">(None, 256)</text>\n</g>\n<!-- 140398345591720&#45;&gt;140398343732304 -->\n<g class=\"edge\" id=\"edge3\">\n<title>140398345591720-&gt;140398343732304</title>\n<path d=\"M399,-166.3799C399,-158.1745 399,-148.7679 399,-139.8786\" fill=\"none\" stroke=\"#000000\"/>\n<polygon fill=\"#000000\" points=\"402.5001,-139.784 399,-129.784 395.5001,-139.784 402.5001,-139.784\" stroke=\"#000000\"/>\n</g>\n<!-- 140398305485992 -->\n<g class=\"node\" id=\"node4\">\n<title>140398305485992</title>\n<polygon fill=\"none\" points=\"529.5,-166.5 529.5,-212.5 754.5,-212.5 754.5,-166.5 529.5,-166.5\" stroke=\"#000000\"/>\n<text fill=\"#000000\" font-family=\"Times,serif\" font-size=\"14.00\" text-anchor=\"middle\" x=\"569.5\" y=\"-185.8\">InputLayer</text>\n<polyline fill=\"none\" points=\"609.5,-166.5 609.5,-212.5 \" stroke=\"#000000\"/>\n<text fill=\"#000000\" font-family=\"Times,serif\" font-size=\"14.00\" text-anchor=\"middle\" x=\"638.5\" y=\"-197.3\">input:</text>\n<polyline fill=\"none\" points=\"609.5,-189.5 667.5,-189.5 \" stroke=\"#000000\"/>\n<text fill=\"#000000\" font-family=\"Times,serif\" font-size=\"14.00\" text-anchor=\"middle\" x=\"638.5\" y=\"-174.3\">output:</text>\n<polyline fill=\"none\" points=\"667.5,-166.5 667.5,-212.5 \" stroke=\"#000000\"/>\n<text fill=\"#000000\" font-family=\"Times,serif\" font-size=\"14.00\" text-anchor=\"middle\" x=\"711\" y=\"-197.3\">(None, 256)</text>\n<polyline fill=\"none\" points=\"667.5,-189.5 754.5,-189.5 \" stroke=\"#000000\"/>\n<text fill=\"#000000\" font-family=\"Times,serif\" font-size=\"14.00\" text-anchor=\"middle\" x=\"711\" y=\"-174.3\">(None, 256)</text>\n</g>\n<!-- 140398305485992&#45;&gt;140398343732304 -->\n<g class=\"edge\" id=\"edge4\">\n<title>140398305485992-&gt;140398343732304</title>\n<path d=\"M574.6337,-166.4901C544.084,-156.0554 507.7949,-143.6604 476.1557,-132.8536\" fill=\"none\" stroke=\"#000000\"/>\n<polygon fill=\"#000000\" points=\"477.0919,-129.4749 466.4974,-129.5547 474.8293,-136.0991 477.0919,-129.4749\" stroke=\"#000000\"/>\n</g>\n<!-- 140398330701136 -->\n<g class=\"node\" id=\"node6\">\n<title>140398330701136</title>\n<polygon fill=\"none\" points=\"269.5,-.5 269.5,-46.5 528.5,-46.5 528.5,-.5 269.5,-.5\" stroke=\"#000000\"/>\n<text fill=\"#000000\" font-family=\"Times,serif\" font-size=\"14.00\" text-anchor=\"middle\" x=\"295.5\" y=\"-19.8\">Dense</text>\n<polyline fill=\"none\" points=\"321.5,-.5 321.5,-46.5 \" stroke=\"#000000\"/>\n<text fill=\"#000000\" font-family=\"Times,serif\" font-size=\"14.00\" text-anchor=\"middle\" x=\"350.5\" y=\"-31.3\">input:</text>\n<polyline fill=\"none\" points=\"321.5,-23.5 379.5,-23.5 \" stroke=\"#000000\"/>\n<text fill=\"#000000\" font-family=\"Times,serif\" font-size=\"14.00\" text-anchor=\"middle\" x=\"350.5\" y=\"-8.3\">output:</text>\n<polyline fill=\"none\" points=\"379.5,-.5 379.5,-46.5 \" stroke=\"#000000\"/>\n<text fill=\"#000000\" font-family=\"Times,serif\" font-size=\"14.00\" text-anchor=\"middle\" x=\"454\" y=\"-31.3\">(None, None, 256)</text>\n<polyline fill=\"none\" points=\"379.5,-23.5 528.5,-23.5 \" stroke=\"#000000\"/>\n<text fill=\"#000000\" font-family=\"Times,serif\" font-size=\"14.00\" text-anchor=\"middle\" x=\"454\" y=\"-8.3\">(None, None, 348009)</text>\n</g>\n<!-- 140398343732304&#45;&gt;140398330701136 -->\n<g class=\"edge\" id=\"edge5\">\n<title>140398343732304-&gt;140398330701136</title>\n<path d=\"M399,-83.3799C399,-75.1745 399,-65.7679 399,-56.8786\" fill=\"none\" stroke=\"#000000\"/>\n<polygon fill=\"#000000\" points=\"402.5001,-56.784 399,-46.784 395.5001,-56.784 402.5001,-56.784\" stroke=\"#000000\"/>\n</g>\n</g>\n</svg>"
          },
          "metadata": {
            "tags": []
          },
          "execution_count": 40
        }
      ]
    },
    {
      "cell_type": "code",
      "metadata": {
        "id": "riXtdkhuNenb",
        "colab_type": "code",
        "colab": {}
      },
      "source": [
        "#decoding sequences\n",
        "def decode_sequence(input_seq):\n",
        "    # Encode the input as state vectors.\n",
        "    states_value = encoder_model.predict(input_seq)\n",
        "\n",
        "    # Generate empty target sequence of length 1.\n",
        "    target_seq = np.zeros((1,1))\n",
        "    target_seq[0, 0] = tokenizer.word_index[\"<BOS>\"]\n",
        "\n",
        "    # Sampling loop for a batch of sequences\n",
        "    # (to simplify, here we assume a batch of size 1).\n",
        "    stop_condition = False\n",
        "    decoded_sentence = ''\n",
        "    while not stop_condition:\n",
        "        output_tokens, h, c = decoder_model.predict(\n",
        "            [target_seq] + states_value)\n",
        "\n",
        "        # Sample a token\n",
        "        sampled_token_index = np.argmax(output_tokens[0,0])\n",
        "        sampled_char = idx2word[sampled_token_index]\n",
        "        # print(sampled_token_index,end=\" \")\n",
        "        decoded_sentence += sampled_char + \" \"\n",
        "\n",
        "        # Exit condition: either hit max length\n",
        "        # or find stop character.\n",
        "        if (sampled_char == '<EOS>' or\n",
        "           len(decoded_sentence) > MAX_TARGET_LENGTH):\n",
        "            stop_condition = True\n",
        "\n",
        "        # Update the target sequence (of length 1).\n",
        "        target_seq[0, 0] = sampled_token_index\n",
        "\n",
        "        # Update states\n",
        "        states_value = [h, c]\n",
        "\n",
        "    return decoded_sentence"
      ],
      "execution_count": 0,
      "outputs": []
    },
    {
      "cell_type": "code",
      "metadata": {
        "id": "8I3BQBANNijn",
        "colab_type": "code",
        "outputId": "472f4fc5-351c-4c3e-f269-718284c900b7",
        "colab": {
          "base_uri": "https://localhost:8080/",
          "height": 107
        }
      },
      "source": [
        "seq = 1\n",
        "input_seq = encoder_input_data[seq:seq+1]\n",
        "decoded_sentence = decode_sequence(input_seq)\n",
        "print('-')\n",
        "print('Article:', data1[seq].strip())\n",
        "print('Actual Summary:', data2[seq][5:-5])\n",
        "print('Predicted Summary:', decoded_sentence)"
      ],
      "execution_count": 44,
      "outputs": [
        {
          "output_type": "stream",
          "text": [
            "-\n",
            "Article: brunei has become the first east asian country to adopt sharia law despite widespread condemnation from international human rights groups . the islamic criminal law is set to include punishments such as flogging dismemberment and death by stoning for crimes such as rape adultery and sodomy . the religious laws will operate alongside the existing civil penal code . during a ceremony wednesday morning the sultan of brunei hassanal bolkiah announced the commencement of the first phase of the shariabased penal code according to the government 's official website . the oilrich kingdom located on the island of borneo has a population of just 412 000 people . the country already follows a more conservative islamic rule than neighboring muslimdominated countries like indonesia and malaysia and has implemented strict religiouslymotivated laws such as the banning of the sale of alcohol . stringent laws in response to the new set of laws human rights group amnesty international said that it will `` take the country back to the dark ages . '' `` it the law makes a mockery of the country 's international human rights commitments and must be revoked immediately `` amnesty 's regional deputy director rupert abbott said in a statement released after the announcement . most parts of the new islamic code will apply to both muslims and nonmuslims affecting people from the christian and buddhist communities . around 70 percent of people in brunei are malay muslims while the remainder of the population are of chinese or other ethnic descent . the sultan who is also the prime minister first announced the law in october 2013. as per its provisions sexual offenses such as rape adultery and sodomy will be considered punishable acts for muslims . consensual sex between homosexuals will also be criminalized with death by stoning the prescribed punishment . in announcing the implementation of sharia law the government website quoted the sultan as saying that his government `` does not expect other people to accept and agree with it but that it would suffice if they just respect the nation in the same way that it also respects them . '' widespread condemnation lgbt advocacy groups in asia have voiced their opposition to brunei 's implementation of sharia law . `` it may open the floodgates for further human rights violations against women children and other people on the basis of sexual orientation and gender identity `` officials from the asia pacific coalition on male sexual health apcom and islands of south east asian network on male and transgender sexual health isean said in a joint statement released last week . the united nations has also publicly condemned the move . `` under international law stoning people to death constitutes torture or other cruel inhuman or degrading treatment or punishment and is thus clearly prohibited `` rupert colville spokesperson for the u.n. high commissioner for human rights said in a press briefing in geneva last month . antiwomen provisions he further expressed concerns about the implementation of sharia law 's impact on women . `` a number of un studies have revealed that women are more likely to be sentenced to death by stoning due to deeply entrenched discrimination and stereotyping against them . '' more than 40 000 people have attended briefing sessions organized by the government in the last four months to understand the provisions under the new islamic criminal law the country 's religious affairs minister said during a ceremony to mark the laws ' implementation .\n",
            "Actual Summary:  brunei has become the first east asian country to adopt sharia law . the shariabased penal code will eventually include death by stoning . international human rights groups have publicly condemned the move . <\n",
            "Predicted Summary: kievbased hermanos hermanos sharia4belgium 2footwide supercoach barbaresi charleyproject newscast reef.. zemlja zambales \n"
          ],
          "name": "stdout"
        }
      ]
    },
    {
      "cell_type": "code",
      "metadata": {
        "id": "AoZ0eMaBPWfJ",
        "colab_type": "code",
        "colab": {}
      },
      "source": [
        ""
      ],
      "execution_count": 0,
      "outputs": []
    }
  ]
}